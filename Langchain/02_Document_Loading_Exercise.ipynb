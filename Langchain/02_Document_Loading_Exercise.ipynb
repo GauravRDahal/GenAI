{
  "cells": [
    {
      "cell_type": "markdown",
      "id": "728f1747-b8fc-4d31-96c2-047fc83c079d",
      "metadata": {
        "id": "728f1747-b8fc-4d31-96c2-047fc83c079d"
      },
      "source": [
        "#  Document Loading Exercise\n",
        "\n",
        "## Answering a Single Question\n",
        "\n",
        "Using the Wikipedia Document Loader Integration,can you make a function that accepts a famous historical figure name and a question about them, and then uses a ChatModel to answer questions with the additional context? Notice how in our example, the query doesn't mention the famous person. Keep in mind there are many potential ways to solve this problem!"
      ]
    },
    {
      "cell_type": "code",
      "execution_count": null,
      "id": "244f42d8-2349-446e-a1c2-ae4b8d3ee38f",
      "metadata": {
        "colab": {
          "base_uri": "https://localhost:8080/"
        },
        "id": "244f42d8-2349-446e-a1c2-ae4b8d3ee38f",
        "outputId": "91c5e106-59b6-4ebf-ba9b-7bce08852abd"
      },
      "outputs": [
        {
          "output_type": "stream",
          "name": "stdout",
          "text": [
            "Collecting wikipedia\n",
            "  Downloading wikipedia-1.4.0.tar.gz (27 kB)\n",
            "  Preparing metadata (setup.py) ... \u001b[?25l\u001b[?25hdone\n",
            "Collecting langchain\n",
            "  Downloading langchain-0.0.259-py3-none-any.whl (1.5 MB)\n",
            "\u001b[2K     \u001b[90m━━━━━━━━━━━━━━━━━━━━━━━━━━━━━━━━━━━━━━━━\u001b[0m \u001b[32m1.5/1.5 MB\u001b[0m \u001b[31m8.0 MB/s\u001b[0m eta \u001b[36m0:00:00\u001b[0m\n",
            "\u001b[?25hCollecting openai\n",
            "  Downloading openai-0.27.8-py3-none-any.whl (73 kB)\n",
            "\u001b[2K     \u001b[90m━━━━━━━━━━━━━━━━━━━━━━━━━━━━━━━━━━━━━━━━\u001b[0m \u001b[32m73.6/73.6 kB\u001b[0m \u001b[31m6.2 MB/s\u001b[0m eta \u001b[36m0:00:00\u001b[0m\n",
            "\u001b[?25hRequirement already satisfied: beautifulsoup4 in /usr/local/lib/python3.10/dist-packages (from wikipedia) (4.11.2)\n",
            "Requirement already satisfied: requests<3.0.0,>=2.0.0 in /usr/local/lib/python3.10/dist-packages (from wikipedia) (2.31.0)\n",
            "Requirement already satisfied: PyYAML>=5.3 in /usr/local/lib/python3.10/dist-packages (from langchain) (6.0.1)\n",
            "Requirement already satisfied: SQLAlchemy<3,>=1.4 in /usr/local/lib/python3.10/dist-packages (from langchain) (2.0.19)\n",
            "Requirement already satisfied: aiohttp<4.0.0,>=3.8.3 in /usr/local/lib/python3.10/dist-packages (from langchain) (3.8.5)\n",
            "Requirement already satisfied: async-timeout<5.0.0,>=4.0.0 in /usr/local/lib/python3.10/dist-packages (from langchain) (4.0.2)\n",
            "Collecting dataclasses-json<0.6.0,>=0.5.7 (from langchain)\n",
            "  Downloading dataclasses_json-0.5.14-py3-none-any.whl (26 kB)\n",
            "Collecting langsmith<0.1.0,>=0.0.11 (from langchain)\n",
            "  Downloading langsmith-0.0.20-py3-none-any.whl (32 kB)\n",
            "Requirement already satisfied: numexpr<3.0.0,>=2.8.4 in /usr/local/lib/python3.10/dist-packages (from langchain) (2.8.4)\n",
            "Requirement already satisfied: numpy<2,>=1 in /usr/local/lib/python3.10/dist-packages (from langchain) (1.23.5)\n",
            "Collecting openapi-schema-pydantic<2.0,>=1.2 (from langchain)\n",
            "  Downloading openapi_schema_pydantic-1.2.4-py3-none-any.whl (90 kB)\n",
            "\u001b[2K     \u001b[90m━━━━━━━━━━━━━━━━━━━━━━━━━━━━━━━━━━━━━━━━\u001b[0m \u001b[32m90.0/90.0 kB\u001b[0m \u001b[31m8.6 MB/s\u001b[0m eta \u001b[36m0:00:00\u001b[0m\n",
            "\u001b[?25hRequirement already satisfied: pydantic<2,>=1 in /usr/local/lib/python3.10/dist-packages (from langchain) (1.10.12)\n",
            "Requirement already satisfied: tenacity<9.0.0,>=8.1.0 in /usr/local/lib/python3.10/dist-packages (from langchain) (8.2.2)\n",
            "Requirement already satisfied: tqdm in /usr/local/lib/python3.10/dist-packages (from openai) (4.65.0)\n",
            "Requirement already satisfied: attrs>=17.3.0 in /usr/local/lib/python3.10/dist-packages (from aiohttp<4.0.0,>=3.8.3->langchain) (23.1.0)\n",
            "Requirement already satisfied: charset-normalizer<4.0,>=2.0 in /usr/local/lib/python3.10/dist-packages (from aiohttp<4.0.0,>=3.8.3->langchain) (3.2.0)\n",
            "Requirement already satisfied: multidict<7.0,>=4.5 in /usr/local/lib/python3.10/dist-packages (from aiohttp<4.0.0,>=3.8.3->langchain) (6.0.4)\n",
            "Requirement already satisfied: yarl<2.0,>=1.0 in /usr/local/lib/python3.10/dist-packages (from aiohttp<4.0.0,>=3.8.3->langchain) (1.9.2)\n",
            "Requirement already satisfied: frozenlist>=1.1.1 in /usr/local/lib/python3.10/dist-packages (from aiohttp<4.0.0,>=3.8.3->langchain) (1.4.0)\n",
            "Requirement already satisfied: aiosignal>=1.1.2 in /usr/local/lib/python3.10/dist-packages (from aiohttp<4.0.0,>=3.8.3->langchain) (1.3.1)\n",
            "Collecting marshmallow<4.0.0,>=3.18.0 (from dataclasses-json<0.6.0,>=0.5.7->langchain)\n",
            "  Downloading marshmallow-3.20.1-py3-none-any.whl (49 kB)\n",
            "\u001b[2K     \u001b[90m━━━━━━━━━━━━━━━━━━━━━━━━━━━━━━━━━━━━━━━━\u001b[0m \u001b[32m49.4/49.4 kB\u001b[0m \u001b[31m3.0 MB/s\u001b[0m eta \u001b[36m0:00:00\u001b[0m\n",
            "\u001b[?25hCollecting typing-inspect<1,>=0.4.0 (from dataclasses-json<0.6.0,>=0.5.7->langchain)\n",
            "  Downloading typing_inspect-0.9.0-py3-none-any.whl (8.8 kB)\n",
            "Requirement already satisfied: typing-extensions>=4.2.0 in /usr/local/lib/python3.10/dist-packages (from pydantic<2,>=1->langchain) (4.7.1)\n",
            "Requirement already satisfied: idna<4,>=2.5 in /usr/local/lib/python3.10/dist-packages (from requests<3.0.0,>=2.0.0->wikipedia) (3.4)\n",
            "Requirement already satisfied: urllib3<3,>=1.21.1 in /usr/local/lib/python3.10/dist-packages (from requests<3.0.0,>=2.0.0->wikipedia) (1.26.16)\n",
            "Requirement already satisfied: certifi>=2017.4.17 in /usr/local/lib/python3.10/dist-packages (from requests<3.0.0,>=2.0.0->wikipedia) (2023.7.22)\n",
            "Requirement already satisfied: greenlet!=0.4.17 in /usr/local/lib/python3.10/dist-packages (from SQLAlchemy<3,>=1.4->langchain) (2.0.2)\n",
            "Requirement already satisfied: soupsieve>1.2 in /usr/local/lib/python3.10/dist-packages (from beautifulsoup4->wikipedia) (2.4.1)\n",
            "Requirement already satisfied: packaging>=17.0 in /usr/local/lib/python3.10/dist-packages (from marshmallow<4.0.0,>=3.18.0->dataclasses-json<0.6.0,>=0.5.7->langchain) (23.1)\n",
            "Collecting mypy-extensions>=0.3.0 (from typing-inspect<1,>=0.4.0->dataclasses-json<0.6.0,>=0.5.7->langchain)\n",
            "  Downloading mypy_extensions-1.0.0-py3-none-any.whl (4.7 kB)\n",
            "Building wheels for collected packages: wikipedia\n",
            "  Building wheel for wikipedia (setup.py) ... \u001b[?25l\u001b[?25hdone\n",
            "  Created wheel for wikipedia: filename=wikipedia-1.4.0-py3-none-any.whl size=11680 sha256=8025852f505a5ebf3c205a4289a66aae581966bd18e604791fc1193ae861d4eb\n",
            "  Stored in directory: /root/.cache/pip/wheels/5e/b6/c5/93f3dec388ae76edc830cb42901bb0232504dfc0df02fc50de\n",
            "Successfully built wikipedia\n",
            "Installing collected packages: mypy-extensions, marshmallow, wikipedia, typing-inspect, openapi-schema-pydantic, langsmith, openai, dataclasses-json, langchain\n",
            "Successfully installed dataclasses-json-0.5.14 langchain-0.0.259 langsmith-0.0.20 marshmallow-3.20.1 mypy-extensions-1.0.0 openai-0.27.8 openapi-schema-pydantic-1.2.4 typing-inspect-0.9.0 wikipedia-1.4.0\n"
          ]
        }
      ],
      "source": [
        "!pip install wikipedia langchain openai"
      ]
    },
    {
      "cell_type": "code",
      "source": [
        "f= open(\"/content/api_key.txt\")\n",
        "api_key = f.read()"
      ],
      "metadata": {
        "id": "kYmqSo0_Tzhj"
      },
      "id": "kYmqSo0_Tzhj",
      "execution_count": null,
      "outputs": []
    },
    {
      "cell_type": "code",
      "source": [
        "# Load document -->person  --> WikiDocument\n",
        "# Chat Model\n",
        "# {Wiki Document page content} answer user's question: \"When was he born?\""
      ],
      "metadata": {
        "id": "5sntZ4xwS-uY"
      },
      "id": "5sntZ4xwS-uY",
      "execution_count": null,
      "outputs": []
    },
    {
      "cell_type": "code",
      "execution_count": null,
      "id": "2a539244-89c6-4019-8608-1cdf51ba1983",
      "metadata": {
        "id": "2a539244-89c6-4019-8608-1cdf51ba1983"
      },
      "outputs": [],
      "source": [
        "from langchain.prompts import (\n",
        "    ChatPromptTemplate,\n",
        "    SystemMessagePromptTemplate,\n",
        "    HumanMessagePromptTemplate,\n",
        ")\n",
        "from langchain.chat_models import ChatOpenAI\n",
        "from langchain.document_loaders import WikipediaLoader\n",
        "\n",
        "\n",
        "def answer_question_about(person_name,question):\n",
        "\n",
        "    # Load document\n",
        "    loader = WikipediaLoader(query=person_name, load_max_docs=1)\n",
        "    context_text = loader.load()[0].page_content\n",
        "\n",
        "    # Connect OpenAI model\n",
        "    model = ChatOpenAI(openai_api_key=api_key)\n",
        "\n",
        "    # Send prompt --> Format Question\n",
        "    template = \"Answer this question:\\n{question}\\n Here is some extra content:\\n{document}\"\n",
        "    human_prompt = HumanMessagePromptTemplate.from_template(template)\n",
        "\n",
        "    # Chat Prompt --> Get result Content\n",
        "    chat_prompt = ChatPromptTemplate.from_messages([human_prompt])\n",
        "\n",
        "    result = model(chat_prompt.format_prompt(question = question,\n",
        "                                              document = context_text).to_messages())\n",
        "\n",
        "    answer = result.content\n",
        "\n",
        "    print(answer)"
      ]
    },
    {
      "cell_type": "code",
      "execution_count": null,
      "id": "e3a43963-57d4-44c5-8d28-b6164b2c0b83",
      "metadata": {
        "id": "e3a43963-57d4-44c5-8d28-b6164b2c0b83",
        "outputId": "d8b5d599-6b10-4e2a-e9e5-57424f594429"
      },
      "outputs": [
        {
          "name": "stdout",
          "output_type": "stream",
          "text": [
            "Claude Elwood Shannon was born on April 30, 1916.\n"
          ]
        }
      ],
      "source": [
        "answer_question_about(\"Claude Shannon\",\"When was he born?\")\n",
        "# Claude Elwood Shannon was born on April 30, 1916."
      ]
    },
    {
      "cell_type": "code",
      "source": [
        "answer_question_about(\"Barak Obama\",\"When was he born?\")"
      ],
      "metadata": {
        "colab": {
          "base_uri": "https://localhost:8080/"
        },
        "id": "WdQBDhUIV9I4",
        "outputId": "79e3fda7-6db5-46a7-a400-f036f1e8db53"
      },
      "id": "WdQBDhUIV9I4",
      "execution_count": null,
      "outputs": [
        {
          "output_type": "stream",
          "name": "stdout",
          "text": [
            "He was born on August 4, 1961.\n"
          ]
        }
      ]
    },
    {
      "cell_type": "code",
      "execution_count": null,
      "id": "b9074e58-b4af-4a21-a503-a0c58621a7a3",
      "metadata": {
        "id": "b9074e58-b4af-4a21-a503-a0c58621a7a3"
      },
      "outputs": [],
      "source": []
    },
    {
      "cell_type": "markdown",
      "source": [
        "# For DT"
      ],
      "metadata": {
        "id": "Fhy6ulteeIiE"
      },
      "id": "Fhy6ulteeIiE"
    },
    {
      "cell_type": "code",
      "source": [
        "!pip install beautifulsoup4"
      ],
      "metadata": {
        "colab": {
          "base_uri": "https://localhost:8080/"
        },
        "id": "kWjsrJ0UeKSJ",
        "outputId": "171a94d9-2a9f-48aa-dea6-d571b3c53d14"
      },
      "id": "kWjsrJ0UeKSJ",
      "execution_count": null,
      "outputs": [
        {
          "output_type": "stream",
          "name": "stdout",
          "text": [
            "Requirement already satisfied: beautifulsoup4 in /usr/local/lib/python3.10/dist-packages (4.11.2)\n",
            "Requirement already satisfied: soupsieve>1.2 in /usr/local/lib/python3.10/dist-packages (from beautifulsoup4) (2.4.1)\n"
          ]
        }
      ]
    },
    {
      "cell_type": "code",
      "source": [
        "from langchain.document_loaders import BSHTMLLoader"
      ],
      "metadata": {
        "id": "AxPMJuoUeKUi"
      },
      "id": "AxPMJuoUeKUi",
      "execution_count": null,
      "outputs": []
    },
    {
      "cell_type": "code",
      "source": [
        "loader = BSHTMLLoader(\"/content/Deep Thought - Home.html\")"
      ],
      "metadata": {
        "id": "2h0OfSnzeKXy"
      },
      "id": "2h0OfSnzeKXy",
      "execution_count": null,
      "outputs": []
    },
    {
      "cell_type": "code",
      "source": [
        "data = loader.load()"
      ],
      "metadata": {
        "id": "kla5agnUeKZm"
      },
      "id": "kla5agnUeKZm",
      "execution_count": null,
      "outputs": []
    },
    {
      "cell_type": "code",
      "source": [
        "data[0].page_content"
      ],
      "metadata": {
        "colab": {
          "base_uri": "https://localhost:8080/",
          "height": 226
        },
        "id": "bZEGaGTFeKeI",
        "outputId": "7e0c10b8-e25c-4072-b759-6a9f6bbc4ba0"
      },
      "id": "bZEGaGTFeKeI",
      "execution_count": null,
      "outputs": [
        {
          "output_type": "execute_result",
          "data": {
            "text/plain": [
              "'Deep Thought - Home You need to enable JavaScript to run this app.PartnerPeopleClientsInvestorsArticlesAbout UsLoginPartnerYouthlearn, contribute to socio-economically impactful productsStartupshire young contributors who can fuel your organization\\'s growthUniversitiesprepare your deep-thinking students for a DeepTech futureVolunteerslet\\'s work for a happier society and prosperous economy  PeopleHumanistic SoftDevsDT Software Developers who get the big picture- holistic and humanisticAligning TPMsDT Technical Product Managers cohere the org\\'s engineering effortsYoung LeadersDT leaders are compassionate values-driven, they deliver resultsGrowth HackersDT Growth Hackers blend Content, Data, Tech to enable scale  ClientsIPxA Web3 FinTech startup revolutionizing the entertainment industry, nurturing Art! GrowpitalAn AgriTech startup revolutionizing Indian agriculture, pays fixed salaries to farmersKringle.aiA MarTech startup that helps B2C/D2C brands with customer retentionKreative OrganicsA 32yr old Pharma company looking to disrupt the Indian Pharma industry  InvestorsS Vishwanathanformer Chief People Officer of NIIT TechnologiesAnup KalbaliaEx CodeChef lead, India\\'s best competitive programming platformVarun KaramshettyAsst. Professor at the National University of Singapore, former Sciensation FellowJyothi ReddyDirector of Education, The Shriram Universal School, Hyderabad  ArticlesAbout UsValues & PrinciplesThe North Stars guiding our pathways, processes, and practices to realize MetaDeepTech.Leadership TeamOur veterans who inspire and integrate organizational, vertical, individual growth.Young LeadersOur up-and-coming Thought Leaders who explore-exploit-execute DeepTech possibilities.DT AlumniOur former associates who nurtured DT and helped us reach where we are right now.LoginDT GrowthTeamsDT powers the teams of futuristic startups. Young contributors unlearn, relearn with us, to create socio-economic value.  DT repositions the education industry, DT is India\\'s answer to TeslaWho We AreMentors of Product ThinkersWe groom youngsters to be able to contribute to disruptive product startups and thus fuel socio-economic impactWho We AreEducators with a disruptive visionWe are bootstrapping a new approach to education. Startups sponsor the DT education so beginners can get up to speed and drive their growthWho We AreCommunity of Life-long learnersWe help our learners reflect over little things in their garden, discuss big ideas, go to the roots of knowledge, and network with thinkers across the world. Our Technology has three components of learning- self, social and growth learning. Who We ArePedaTech InnovatorsOur Technology vision is to empower every school/college to become an MIT/Harvard/IISER style research institution by 2030, so every human becomes a researcher and socio-economic value contributor.Who We AreLearning as a way of lifeDeepThought is heading strongly on an 11-year journey of democratizing Thought Leadership and repositioning education as a way of life over a vocational pursuit.What We DoPedaTech Innovation We research business, technology, and behavioral sciences to build PedaTech products that democratize research focussed learning. Our Threadbuilding Technology empowers youngsters to pick up new domains very quickly and execute new  projects for our clients.What We DoBuild Product Startup Teams We groom youngsters with Product Thinking, Socratic Thinking, and the DT Education Model so they can contribute to the growth of disruptive product startups. We are not a recruitment agency or a Finishing school, but a growth agency for startups- we bring in people, processes, and systems. What We DoDT GrowthTeams We hire, train, and manage youngsters for diverse roles like software development, community management, technical product management, technical copywriting, and technical project management. Our classes are aligned with the client\\'s operational needs. What We DoDT Learning Model We groom youngsters around Learnability, Project Execution, BizTech Acumen, Behavioral Intelligence and Values-centered decision making. This allows them to see the big picture and contribute to the organization\\'s growth.What We DoInternal Organization Building A disruptive startup has a unique brand and creative approach. Freelancers may not align with the vision, we build an internal Tech Organization or Creatives Organization- basically any function that the startup requires through people, processes and systems.Yugandhar ReddyChief Mentor and COODT Contributors are involved in research and this reawakens humanistic instincts, by  challenging our conditioning, nurtures holistic individuals to lead institutions, igniting a lot of innovation, isn’t this a renaissance?”\\n\\nAshish SrivastavaJuror, Learnability Socratic Dialogue“I am glad that there are people who are talking about this whole dialogue-based education. And leaving the interpretation and learning to the learner, the learner becomes the co-owner of his/her own education”.Dr. Jyothi ReddyFuturist Educator & Institution Builder\"I like the idea of inculcating a research mindset in students, questioning and probing more, getting into the depth of the topic, and approaching in different directions through Socratic Dialogues. Eventually, this would become the students\\' way of life to bring more quality and value in the field of education itself.”Joydip BhattacharyaBrand Head, The Economic Times\"I mentor DT as it is engaging with mankind to create frameworks for individuals to solve problems. Democratizing the abilities to solve problems is the future and is the best problem to solve right now.”Hariharan AnandTechnology Mentor and CTO, DTDT doesn’t just give the interns and walk away, DT gives the processes through which the company can get the interns to contribute. Processes like TOC Sheets are very useful\\n\\nTarunEducational Philosopher and CEO, DT\"The goal is that DeepThought is to transform the cultures of all schools, colleges, and corporates, and brining in a spirit of contribution. The DT educated youngsters can really energize and fuel growth culture\"Media Presence<Reforming Education\\t\\t\"And a 5th grade student raised this issue asking, “What is the purpose of sitting in the class if I am unable to raise questions and clarify the doubts?” \"\\t\\t\\t\\tBrand for Science\\t\\t\\t\\t\\t\"Paying attention to detail and providing metaphysical insights to people, is a vital aspect of sicence communication and that is what Sciensation precisely does.\"\\t\\t\\t\\t\\tDeepThought - India\\'s answer to Tesla\"Tarun\\'s plans for his pupils are huge. Like Elon Musk huge.... We want to develop the smartest minds to become CEOs at the national and international level,\"\\t\\t\\t\\tDebate on Parenting“The skills that are relevant today may not be relevant tomorrow. Teachers should teach how to learn and that is more important.”\\t\\t\\t\\t\\t>Are you a life-long learner?Let’s dialogue!Please select a categoryParentSchoolCollaboratorsJob ApplicantOtherJoin DT Learning Community DEEPTHOUGHTWorldwide+91 7207001400Contact UsPrivacy PolicyReturns PolicyTerms of ServiceCareers© Copyright 2021. All Rights Reserved.'"
            ],
            "application/vnd.google.colaboratory.intrinsic+json": {
              "type": "string"
            }
          },
          "metadata": {},
          "execution_count": 38
        }
      ]
    },
    {
      "cell_type": "code",
      "source": [],
      "metadata": {
        "id": "LawV7Nyuekxx"
      },
      "id": "LawV7Nyuekxx",
      "execution_count": null,
      "outputs": []
    },
    {
      "cell_type": "code",
      "source": [],
      "metadata": {
        "id": "Yhpimzlhekzm"
      },
      "id": "Yhpimzlhekzm",
      "execution_count": null,
      "outputs": []
    },
    {
      "cell_type": "code",
      "source": [],
      "metadata": {
        "id": "HgucLSt_ek3g"
      },
      "id": "HgucLSt_ek3g",
      "execution_count": null,
      "outputs": []
    },
    {
      "cell_type": "code",
      "source": [],
      "metadata": {
        "id": "KuvEemVJek5A"
      },
      "id": "KuvEemVJek5A",
      "execution_count": null,
      "outputs": []
    },
    {
      "cell_type": "code",
      "source": [],
      "metadata": {
        "id": "PmsNeYXlek9O"
      },
      "id": "PmsNeYXlek9O",
      "execution_count": null,
      "outputs": []
    },
    {
      "cell_type": "code",
      "source": [],
      "metadata": {
        "id": "yx4Y3zQ7ek-7"
      },
      "id": "yx4Y3zQ7ek-7",
      "execution_count": null,
      "outputs": []
    },
    {
      "cell_type": "code",
      "source": [],
      "metadata": {
        "id": "sJB2D0haelRp"
      },
      "id": "sJB2D0haelRp",
      "execution_count": null,
      "outputs": []
    }
  ],
  "metadata": {
    "kernelspec": {
      "display_name": "Python 3 (ipykernel)",
      "language": "python",
      "name": "python3"
    },
    "language_info": {
      "codemirror_mode": {
        "name": "ipython",
        "version": 3
      },
      "file_extension": ".py",
      "mimetype": "text/x-python",
      "name": "python",
      "nbconvert_exporter": "python",
      "pygments_lexer": "ipython3",
      "version": "3.9.12"
    },
    "colab": {
      "provenance": []
    }
  },
  "nbformat": 4,
  "nbformat_minor": 5
}