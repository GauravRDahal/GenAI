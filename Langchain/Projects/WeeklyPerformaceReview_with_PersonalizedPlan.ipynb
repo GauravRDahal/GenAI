{
  "nbformat": 4,
  "nbformat_minor": 0,
  "metadata": {
    "colab": {
      "provenance": [],
      "gpuType": "T4"
    },
    "kernelspec": {
      "name": "python3",
      "display_name": "Python 3"
    },
    "language_info": {
      "name": "python"
    },
    "accelerator": "GPU"
  },
  "cells": [
    {
      "cell_type": "code",
      "execution_count": null,
      "metadata": {
        "colab": {
          "base_uri": "https://localhost:8080/"
        },
        "id": "bSxHhc6WUdhC",
        "outputId": "fbd34087-b415-4ad4-c13d-2ab7bc57a27e"
      },
      "outputs": [
        {
          "output_type": "stream",
          "name": "stdout",
          "text": [
            "Collecting openai\n",
            "  Downloading openai-0.27.9-py3-none-any.whl (75 kB)\n",
            "\u001b[2K     \u001b[90m━━━━━━━━━━━━━━━━━━━━━━━━━━━━━━━━━━━━━━━\u001b[0m \u001b[32m75.5/75.5 kB\u001b[0m \u001b[31m756.1 kB/s\u001b[0m eta \u001b[36m0:00:00\u001b[0m\n",
            "\u001b[?25hCollecting langchain\n",
            "  Downloading langchain-0.0.271-py3-none-any.whl (1.5 MB)\n",
            "\u001b[2K     \u001b[90m━━━━━━━━━━━━━━━━━━━━━━━━━━━━━━━━━━━━━━━━\u001b[0m \u001b[32m1.5/1.5 MB\u001b[0m \u001b[31m24.2 MB/s\u001b[0m eta \u001b[36m0:00:00\u001b[0m\n",
            "\u001b[?25hCollecting tiktoken\n",
            "  Downloading tiktoken-0.4.0-cp310-cp310-manylinux_2_17_x86_64.manylinux2014_x86_64.whl (1.7 MB)\n",
            "\u001b[2K     \u001b[90m━━━━━━━━━━━━━━━━━━━━━━━━━━━━━━━━━━━━━━━━\u001b[0m \u001b[32m1.7/1.7 MB\u001b[0m \u001b[31m76.7 MB/s\u001b[0m eta \u001b[36m0:00:00\u001b[0m\n",
            "\u001b[?25hCollecting chromadb\n",
            "  Downloading chromadb-0.4.6-py3-none-any.whl (405 kB)\n",
            "\u001b[2K     \u001b[90m━━━━━━━━━━━━━━━━━━━━━━━━━━━━━━━━━━━━━━\u001b[0m \u001b[32m405.5/405.5 kB\u001b[0m \u001b[31m29.5 MB/s\u001b[0m eta \u001b[36m0:00:00\u001b[0m\n",
            "\u001b[?25hRequirement already satisfied: requests>=2.20 in /usr/local/lib/python3.10/dist-packages (from openai) (2.31.0)\n",
            "Requirement already satisfied: tqdm in /usr/local/lib/python3.10/dist-packages (from openai) (4.66.1)\n",
            "Requirement already satisfied: aiohttp in /usr/local/lib/python3.10/dist-packages (from openai) (3.8.5)\n",
            "Requirement already satisfied: PyYAML>=5.3 in /usr/local/lib/python3.10/dist-packages (from langchain) (6.0.1)\n",
            "Requirement already satisfied: SQLAlchemy<3,>=1.4 in /usr/local/lib/python3.10/dist-packages (from langchain) (2.0.20)\n",
            "Requirement already satisfied: async-timeout<5.0.0,>=4.0.0 in /usr/local/lib/python3.10/dist-packages (from langchain) (4.0.3)\n",
            "Collecting dataclasses-json<0.6.0,>=0.5.7 (from langchain)\n",
            "  Downloading dataclasses_json-0.5.14-py3-none-any.whl (26 kB)\n",
            "Collecting langsmith<0.1.0,>=0.0.21 (from langchain)\n",
            "  Downloading langsmith-0.0.26-py3-none-any.whl (34 kB)\n",
            "Requirement already satisfied: numexpr<3.0.0,>=2.8.4 in /usr/local/lib/python3.10/dist-packages (from langchain) (2.8.5)\n",
            "Requirement already satisfied: numpy<2,>=1 in /usr/local/lib/python3.10/dist-packages (from langchain) (1.23.5)\n",
            "Requirement already satisfied: pydantic<3,>=1 in /usr/local/lib/python3.10/dist-packages (from langchain) (2.2.0)\n",
            "Requirement already satisfied: tenacity<9.0.0,>=8.1.0 in /usr/local/lib/python3.10/dist-packages (from langchain) (8.2.3)\n",
            "Requirement already satisfied: regex>=2022.1.18 in /usr/local/lib/python3.10/dist-packages (from tiktoken) (2023.6.3)\n",
            "Collecting pydantic<3,>=1 (from langchain)\n",
            "  Downloading pydantic-1.10.12-cp310-cp310-manylinux_2_17_x86_64.manylinux2014_x86_64.whl (3.1 MB)\n",
            "\u001b[2K     \u001b[90m━━━━━━━━━━━━━━━━━━━━━━━━━━━━━━━━━━━━━━━━\u001b[0m \u001b[32m3.1/3.1 MB\u001b[0m \u001b[31m82.2 MB/s\u001b[0m eta \u001b[36m0:00:00\u001b[0m\n",
            "\u001b[?25hCollecting chroma-hnswlib==0.7.2 (from chromadb)\n",
            "  Downloading chroma-hnswlib-0.7.2.tar.gz (31 kB)\n",
            "  Installing build dependencies ... \u001b[?25l\u001b[?25hdone\n",
            "  Getting requirements to build wheel ... \u001b[?25l\u001b[?25hdone\n",
            "  Preparing metadata (pyproject.toml) ... \u001b[?25l\u001b[?25hdone\n",
            "Collecting fastapi<0.100.0,>=0.95.2 (from chromadb)\n",
            "  Downloading fastapi-0.99.1-py3-none-any.whl (58 kB)\n",
            "\u001b[2K     \u001b[90m━━━━━━━━━━━━━━━━━━━━━━━━━━━━━━━━━━━━━━━━\u001b[0m \u001b[32m58.4/58.4 kB\u001b[0m \u001b[31m4.3 MB/s\u001b[0m eta \u001b[36m0:00:00\u001b[0m\n",
            "\u001b[?25hCollecting uvicorn[standard]>=0.18.3 (from chromadb)\n",
            "  Downloading uvicorn-0.23.2-py3-none-any.whl (59 kB)\n",
            "\u001b[2K     \u001b[90m━━━━━━━━━━━━━━━━━━━━━━━━━━━━━━━━━━━━━━━━\u001b[0m \u001b[32m59.5/59.5 kB\u001b[0m \u001b[31m7.6 MB/s\u001b[0m eta \u001b[36m0:00:00\u001b[0m\n",
            "\u001b[?25hCollecting posthog>=2.4.0 (from chromadb)\n",
            "  Downloading posthog-3.0.2-py2.py3-none-any.whl (37 kB)\n",
            "Requirement already satisfied: typing-extensions>=4.5.0 in /usr/local/lib/python3.10/dist-packages (from chromadb) (4.7.1)\n",
            "Collecting pulsar-client>=3.1.0 (from chromadb)\n",
            "  Downloading pulsar_client-3.2.0-cp310-cp310-manylinux_2_17_x86_64.manylinux2014_x86_64.whl (5.3 MB)\n",
            "\u001b[2K     \u001b[90m━━━━━━━━━━━━━━━━━━━━━━━━━━━━━━━━━━━━━━━━\u001b[0m \u001b[32m5.3/5.3 MB\u001b[0m \u001b[31m74.9 MB/s\u001b[0m eta \u001b[36m0:00:00\u001b[0m\n",
            "\u001b[?25hCollecting onnxruntime>=1.14.1 (from chromadb)\n",
            "  Downloading onnxruntime-1.15.1-cp310-cp310-manylinux_2_17_x86_64.manylinux2014_x86_64.whl (5.9 MB)\n",
            "\u001b[2K     \u001b[90m━━━━━━━━━━━━━━━━━━━━━━━━━━━━━━━━━━━━━━━━\u001b[0m \u001b[32m5.9/5.9 MB\u001b[0m \u001b[31m93.0 MB/s\u001b[0m eta \u001b[36m0:00:00\u001b[0m\n",
            "\u001b[?25hCollecting tokenizers>=0.13.2 (from chromadb)\n",
            "  Downloading tokenizers-0.13.3-cp310-cp310-manylinux_2_17_x86_64.manylinux2014_x86_64.whl (7.8 MB)\n",
            "\u001b[2K     \u001b[90m━━━━━━━━━━━━━━━━━━━━━━━━━━━━━━━━━━━━━━━━\u001b[0m \u001b[32m7.8/7.8 MB\u001b[0m \u001b[31m115.8 MB/s\u001b[0m eta \u001b[36m0:00:00\u001b[0m\n",
            "\u001b[?25hCollecting pypika>=0.48.9 (from chromadb)\n",
            "  Downloading PyPika-0.48.9.tar.gz (67 kB)\n",
            "\u001b[2K     \u001b[90m━━━━━━━━━━━━━━━━━━━━━━━━━━━━━━━━━━━━━━━━\u001b[0m \u001b[32m67.3/67.3 kB\u001b[0m \u001b[31m9.3 MB/s\u001b[0m eta \u001b[36m0:00:00\u001b[0m\n",
            "\u001b[?25h  Installing build dependencies ... \u001b[?25l\u001b[?25hdone\n",
            "  Getting requirements to build wheel ... \u001b[?25l\u001b[?25hdone\n",
            "  Preparing metadata (pyproject.toml) ... \u001b[?25l\u001b[?25hdone\n",
            "Collecting overrides>=7.3.1 (from chromadb)\n",
            "  Downloading overrides-7.4.0-py3-none-any.whl (17 kB)\n",
            "Requirement already satisfied: importlib-resources in /usr/local/lib/python3.10/dist-packages (from chromadb) (6.0.1)\n",
            "Requirement already satisfied: attrs>=17.3.0 in /usr/local/lib/python3.10/dist-packages (from aiohttp->openai) (23.1.0)\n",
            "Requirement already satisfied: charset-normalizer<4.0,>=2.0 in /usr/local/lib/python3.10/dist-packages (from aiohttp->openai) (3.2.0)\n",
            "Requirement already satisfied: multidict<7.0,>=4.5 in /usr/local/lib/python3.10/dist-packages (from aiohttp->openai) (6.0.4)\n",
            "Requirement already satisfied: yarl<2.0,>=1.0 in /usr/local/lib/python3.10/dist-packages (from aiohttp->openai) (1.9.2)\n",
            "Requirement already satisfied: frozenlist>=1.1.1 in /usr/local/lib/python3.10/dist-packages (from aiohttp->openai) (1.4.0)\n",
            "Requirement already satisfied: aiosignal>=1.1.2 in /usr/local/lib/python3.10/dist-packages (from aiohttp->openai) (1.3.1)\n",
            "Collecting marshmallow<4.0.0,>=3.18.0 (from dataclasses-json<0.6.0,>=0.5.7->langchain)\n",
            "  Downloading marshmallow-3.20.1-py3-none-any.whl (49 kB)\n",
            "\u001b[2K     \u001b[90m━━━━━━━━━━━━━━━━━━━━━━━━━━━━━━━━━━━━━━━━\u001b[0m \u001b[32m49.4/49.4 kB\u001b[0m \u001b[31m6.2 MB/s\u001b[0m eta \u001b[36m0:00:00\u001b[0m\n",
            "\u001b[?25hCollecting typing-inspect<1,>=0.4.0 (from dataclasses-json<0.6.0,>=0.5.7->langchain)\n",
            "  Downloading typing_inspect-0.9.0-py3-none-any.whl (8.8 kB)\n",
            "Collecting starlette<0.28.0,>=0.27.0 (from fastapi<0.100.0,>=0.95.2->chromadb)\n",
            "  Downloading starlette-0.27.0-py3-none-any.whl (66 kB)\n",
            "\u001b[2K     \u001b[90m━━━━━━━━━━━━━━━━━━━━━━━━━━━━━━━━━━━━━━━━\u001b[0m \u001b[32m67.0/67.0 kB\u001b[0m \u001b[31m8.7 MB/s\u001b[0m eta \u001b[36m0:00:00\u001b[0m\n",
            "\u001b[?25hCollecting coloredlogs (from onnxruntime>=1.14.1->chromadb)\n",
            "  Downloading coloredlogs-15.0.1-py2.py3-none-any.whl (46 kB)\n",
            "\u001b[2K     \u001b[90m━━━━━━━━━━━━━━━━━━━━━━━━━━━━━━━━━━━━━━━━\u001b[0m \u001b[32m46.0/46.0 kB\u001b[0m \u001b[31m5.8 MB/s\u001b[0m eta \u001b[36m0:00:00\u001b[0m\n",
            "\u001b[?25hRequirement already satisfied: flatbuffers in /usr/local/lib/python3.10/dist-packages (from onnxruntime>=1.14.1->chromadb) (23.5.26)\n",
            "Requirement already satisfied: packaging in /usr/local/lib/python3.10/dist-packages (from onnxruntime>=1.14.1->chromadb) (23.1)\n",
            "Requirement already satisfied: protobuf in /usr/local/lib/python3.10/dist-packages (from onnxruntime>=1.14.1->chromadb) (3.20.3)\n",
            "Requirement already satisfied: sympy in /usr/local/lib/python3.10/dist-packages (from onnxruntime>=1.14.1->chromadb) (1.12)\n",
            "Requirement already satisfied: six>=1.5 in /usr/local/lib/python3.10/dist-packages (from posthog>=2.4.0->chromadb) (1.16.0)\n",
            "Collecting monotonic>=1.5 (from posthog>=2.4.0->chromadb)\n",
            "  Downloading monotonic-1.6-py2.py3-none-any.whl (8.2 kB)\n",
            "Collecting backoff>=1.10.0 (from posthog>=2.4.0->chromadb)\n",
            "  Downloading backoff-2.2.1-py3-none-any.whl (15 kB)\n",
            "Requirement already satisfied: python-dateutil>2.1 in /usr/local/lib/python3.10/dist-packages (from posthog>=2.4.0->chromadb) (2.8.2)\n",
            "Requirement already satisfied: certifi in /usr/local/lib/python3.10/dist-packages (from pulsar-client>=3.1.0->chromadb) (2023.7.22)\n",
            "Requirement already satisfied: idna<4,>=2.5 in /usr/local/lib/python3.10/dist-packages (from requests>=2.20->openai) (3.4)\n",
            "Requirement already satisfied: urllib3<3,>=1.21.1 in /usr/local/lib/python3.10/dist-packages (from requests>=2.20->openai) (2.0.4)\n",
            "Requirement already satisfied: greenlet!=0.4.17 in /usr/local/lib/python3.10/dist-packages (from SQLAlchemy<3,>=1.4->langchain) (2.0.2)\n",
            "Requirement already satisfied: click>=7.0 in /usr/local/lib/python3.10/dist-packages (from uvicorn[standard]>=0.18.3->chromadb) (8.1.7)\n",
            "Collecting h11>=0.8 (from uvicorn[standard]>=0.18.3->chromadb)\n",
            "  Downloading h11-0.14.0-py3-none-any.whl (58 kB)\n",
            "\u001b[2K     \u001b[90m━━━━━━━━━━━━━━━━━━━━━━━━━━━━━━━━━━━━━━━━\u001b[0m \u001b[32m58.3/58.3 kB\u001b[0m \u001b[31m8.1 MB/s\u001b[0m eta \u001b[36m0:00:00\u001b[0m\n",
            "\u001b[?25hCollecting httptools>=0.5.0 (from uvicorn[standard]>=0.18.3->chromadb)\n",
            "  Downloading httptools-0.6.0-cp310-cp310-manylinux_2_5_x86_64.manylinux1_x86_64.manylinux_2_17_x86_64.manylinux2014_x86_64.whl (428 kB)\n",
            "\u001b[2K     \u001b[90m━━━━━━━━━━━━━━━━━━━━━━━━━━━━━━━━━━━━━━\u001b[0m \u001b[32m428.8/428.8 kB\u001b[0m \u001b[31m45.1 MB/s\u001b[0m eta \u001b[36m0:00:00\u001b[0m\n",
            "\u001b[?25hCollecting python-dotenv>=0.13 (from uvicorn[standard]>=0.18.3->chromadb)\n",
            "  Downloading python_dotenv-1.0.0-py3-none-any.whl (19 kB)\n",
            "Collecting uvloop!=0.15.0,!=0.15.1,>=0.14.0 (from uvicorn[standard]>=0.18.3->chromadb)\n",
            "  Downloading uvloop-0.17.0-cp310-cp310-manylinux_2_17_x86_64.manylinux2014_x86_64.whl (4.1 MB)\n",
            "\u001b[2K     \u001b[90m━━━━━━━━━━━━━━━━━━━━━━━━━━━━━━━━━━━━━━━━\u001b[0m \u001b[32m4.1/4.1 MB\u001b[0m \u001b[31m111.4 MB/s\u001b[0m eta \u001b[36m0:00:00\u001b[0m\n",
            "\u001b[?25hCollecting watchfiles>=0.13 (from uvicorn[standard]>=0.18.3->chromadb)\n",
            "  Downloading watchfiles-0.19.0-cp37-abi3-manylinux_2_17_x86_64.manylinux2014_x86_64.whl (1.3 MB)\n",
            "\u001b[2K     \u001b[90m━━━━━━━━━━━━━━━━━━━━━━━━━━━━━━━━━━━━━━━━\u001b[0m \u001b[32m1.3/1.3 MB\u001b[0m \u001b[31m84.6 MB/s\u001b[0m eta \u001b[36m0:00:00\u001b[0m\n",
            "\u001b[?25hCollecting websockets>=10.4 (from uvicorn[standard]>=0.18.3->chromadb)\n",
            "  Downloading websockets-11.0.3-cp310-cp310-manylinux_2_5_x86_64.manylinux1_x86_64.manylinux_2_17_x86_64.manylinux2014_x86_64.whl (129 kB)\n",
            "\u001b[2K     \u001b[90m━━━━━━━━━━━━━━━━━━━━━━━━━━━━━━━━━━━━━━\u001b[0m \u001b[32m129.9/129.9 kB\u001b[0m \u001b[31m17.0 MB/s\u001b[0m eta \u001b[36m0:00:00\u001b[0m\n",
            "\u001b[?25hRequirement already satisfied: anyio<5,>=3.4.0 in /usr/local/lib/python3.10/dist-packages (from starlette<0.28.0,>=0.27.0->fastapi<0.100.0,>=0.95.2->chromadb) (3.7.1)\n",
            "Collecting mypy-extensions>=0.3.0 (from typing-inspect<1,>=0.4.0->dataclasses-json<0.6.0,>=0.5.7->langchain)\n",
            "  Downloading mypy_extensions-1.0.0-py3-none-any.whl (4.7 kB)\n",
            "Collecting humanfriendly>=9.1 (from coloredlogs->onnxruntime>=1.14.1->chromadb)\n",
            "  Downloading humanfriendly-10.0-py2.py3-none-any.whl (86 kB)\n",
            "\u001b[2K     \u001b[90m━━━━━━━━━━━━━━━━━━━━━━━━━━━━━━━━━━━━━━━━\u001b[0m \u001b[32m86.8/86.8 kB\u001b[0m \u001b[31m11.3 MB/s\u001b[0m eta \u001b[36m0:00:00\u001b[0m\n",
            "\u001b[?25hRequirement already satisfied: mpmath>=0.19 in /usr/local/lib/python3.10/dist-packages (from sympy->onnxruntime>=1.14.1->chromadb) (1.3.0)\n",
            "Requirement already satisfied: sniffio>=1.1 in /usr/local/lib/python3.10/dist-packages (from anyio<5,>=3.4.0->starlette<0.28.0,>=0.27.0->fastapi<0.100.0,>=0.95.2->chromadb) (1.3.0)\n",
            "Requirement already satisfied: exceptiongroup in /usr/local/lib/python3.10/dist-packages (from anyio<5,>=3.4.0->starlette<0.28.0,>=0.27.0->fastapi<0.100.0,>=0.95.2->chromadb) (1.1.3)\n",
            "Building wheels for collected packages: chroma-hnswlib, pypika\n",
            "  Building wheel for chroma-hnswlib (pyproject.toml) ... \u001b[?25l\u001b[?25hdone\n",
            "  Created wheel for chroma-hnswlib: filename=chroma_hnswlib-0.7.2-cp310-cp310-linux_x86_64.whl size=2287387 sha256=65d1b716fbaf4cf321de6b96dac7dfce6477a8ebb050256227d92b3c1c82b4ac\n",
            "  Stored in directory: /root/.cache/pip/wheels/11/2b/0d/ee457f6782f75315bb5828d5c2dc5639d471afbd44a830b9dc\n",
            "  Building wheel for pypika (pyproject.toml) ... \u001b[?25l\u001b[?25hdone\n",
            "  Created wheel for pypika: filename=PyPika-0.48.9-py2.py3-none-any.whl size=53723 sha256=1d2b616ad1a7d5400421f9648a91665b2662f05bd72ab4327bd7e0f3ea8d31cc\n",
            "  Stored in directory: /root/.cache/pip/wheels/e1/26/51/d0bffb3d2fd82256676d7ad3003faea3bd6dddc9577af665f4\n",
            "Successfully built chroma-hnswlib pypika\n",
            "Installing collected packages: tokenizers, pypika, monotonic, websockets, uvloop, python-dotenv, pydantic, pulsar-client, overrides, mypy-extensions, marshmallow, humanfriendly, httptools, h11, chroma-hnswlib, backoff, watchfiles, uvicorn, typing-inspect, tiktoken, starlette, posthog, langsmith, coloredlogs, openai, onnxruntime, fastapi, dataclasses-json, langchain, chromadb\n",
            "  Attempting uninstall: pydantic\n",
            "    Found existing installation: pydantic 2.2.0\n",
            "    Uninstalling pydantic-2.2.0:\n",
            "      Successfully uninstalled pydantic-2.2.0\n",
            "Successfully installed backoff-2.2.1 chroma-hnswlib-0.7.2 chromadb-0.4.6 coloredlogs-15.0.1 dataclasses-json-0.5.14 fastapi-0.99.1 h11-0.14.0 httptools-0.6.0 humanfriendly-10.0 langchain-0.0.271 langsmith-0.0.26 marshmallow-3.20.1 monotonic-1.6 mypy-extensions-1.0.0 onnxruntime-1.15.1 openai-0.27.9 overrides-7.4.0 posthog-3.0.2 pulsar-client-3.2.0 pydantic-1.10.12 pypika-0.48.9 python-dotenv-1.0.0 starlette-0.27.0 tiktoken-0.4.0 tokenizers-0.13.3 typing-inspect-0.9.0 uvicorn-0.23.2 uvloop-0.17.0 watchfiles-0.19.0 websockets-11.0.3\n"
          ]
        }
      ],
      "source": [
        "!pip install openai langchain tiktoken chromadb"
      ]
    },
    {
      "cell_type": "code",
      "source": [
        "# importing all the dependencies\n",
        "from langchain.chat_models import ChatOpenAI\n",
        "from langchain.prompts.chat import ChatPromptTemplate, HumanMessagePromptTemplate, SystemMessagePromptTemplate, AIMessagePromptTemplate\n",
        "from langchain.chains import LLMChain, SimpleSequentialChain, SequentialChain\n",
        "from langchain.cache import InMemoryCache\n",
        "import langchain\n",
        "import chromadb\n",
        "import tiktoken\n",
        "import pandas as pd\n",
        "import os"
      ],
      "metadata": {
        "id": "ipC_-BcoUeru"
      },
      "execution_count": null,
      "outputs": []
    },
    {
      "cell_type": "code",
      "source": [
        "f = open(\"/content/api_key.txt\")\n",
        "api_key = f.read()\n",
        "chat = ChatOpenAI(openai_api_key=api_key, temperature=0)"
      ],
      "metadata": {
        "id": "8z1xyPgQUetB"
      },
      "execution_count": null,
      "outputs": []
    },
    {
      "cell_type": "code",
      "source": [
        "df = pd.read_csv(\"/content/sdlms_dev.performance_reviews (2).csv\")\n",
        "df.head()"
      ],
      "metadata": {
        "id": "dPEA7MG7Uews"
      },
      "execution_count": null,
      "outputs": []
    },
    {
      "cell_type": "code",
      "source": [
        "df[\"name\"]"
      ],
      "metadata": {
        "colab": {
          "base_uri": "https://localhost:8080/"
        },
        "id": "eqvpFZFfOsfi",
        "outputId": "e837bbce-3016-4d3f-8df0-d24e5b278cbb"
      },
      "execution_count": null,
      "outputs": [
        {
          "output_type": "execute_result",
          "data": {
            "text/plain": [
              "0    TARUGU UMA MAHESWAR REDDY\n",
              "1                  Anaya Sutar\n",
              "2               Tushar Agarwal\n",
              "3               Hinglaj Tanwar\n",
              "4                  Yeleza_Tryp\n",
              "5                 Fardin Kamal\n",
              "6                Samidha Kumar\n",
              "7                prajesheleven\n",
              "8                 Harshvardhan\n",
              "9                 Gaurav Dahal\n",
              "Name: name, dtype: object"
            ]
          },
          "metadata": {},
          "execution_count": 5
        }
      ]
    },
    {
      "cell_type": "code",
      "source": [
        "output_format = \"\"\"\n",
        "\n",
        "WEEKLY REPORT:\n",
        "Summary:\n",
        "\n",
        "Bottlenecks:\n",
        "\n",
        "Suggestions\n",
        "Personalized Plan to Address and Fix Key Employee Weaknesses:\n",
        "\n",
        "\"\"\""
      ],
      "metadata": {
        "id": "bYwqtWxnCLyX"
      },
      "execution_count": null,
      "outputs": []
    },
    {
      "cell_type": "code",
      "source": [
        "def weekly_report(x):\n",
        "\n",
        "  candidiate_fact_sheet = df.iloc[x]\n",
        "  answers = candidiate_fact_sheet[3:-6]\n",
        "  name = candidiate_fact_sheet[1]\n",
        "\n",
        "  output_format = \"\"\"\n",
        "\n",
        "  WEEKLY REPORT:\n",
        "  Summary:\n",
        "\n",
        "  Bottlenecks:\n",
        "\n",
        "  Suggestions\n",
        "  Personalized Plan to Address and Fix Key Employee Weaknesses:\n",
        "\n",
        "  \"\"\"\n",
        "\n",
        "  question_list = [\n",
        "  \"How would you quantify your contributions (of ...\",\n",
        "  \"What are the expected figures?\",\n",
        "  \"What are the actual figures?\",\n",
        "  \"Did you understand how your project lead quant...\",\n",
        "  \"What bottlenecks are slowing you down?\",\n",
        "  \"Why do you think you're facing this bottleneck?\",\n",
        "  \"Would you like to create a process to solve th...\",\n",
        "  \"What are your milestones for the next week?\",\n",
        "  \"Why have you set these milestones?\",\n",
        "  \"How are you improving the quality and quantity...\",\n",
        "  \"How do you plan to achieve these milestones?\",\n",
        "  \"How are you assessing your work?\",\n",
        "  \"Do you rely on senior feedback or do you have ...\",\n",
        "  \"If your project has a long gestation period an...\",\n",
        "  ]\n",
        "\n",
        "  template_string = \"\"\"Based on the {name}, the intern's performance review \\\n",
        "  raise only 3-4 serious red-flags in bullet-points \\\n",
        "  using the question's list to the answers.\\nQuestions:{question_list}\\nAnswers:{answers}\n",
        "  Do not mentions questions in the summary.\n",
        "  Raise atmost 4 red-flags.\n",
        "  \"\"\"\n",
        "  prompt_template = ChatPromptTemplate.from_template(template_string)\n",
        "  summary = prompt_template.format_messages(name = name,\n",
        "                                            answers = answers,\n",
        "                                            question_list = question_list)\n",
        "  response = chat(summary)\n",
        "  template1 = \"Give a summary of this intern's performance review\\n{review}\"\n",
        "  prompt1 = ChatPromptTemplate.from_template(template1)\n",
        "  chain1 = LLMChain(llm=chat, prompt = prompt1, output_key=\"review_summary\")\n",
        "  template2 = \"Identify Key employee weakness in this review summary\\n{review_summary}\"\n",
        "  prompt2 = ChatPromptTemplate.from_template(template2)\n",
        "  chain2 = LLMChain(llm=chat, prompt = prompt2, output_key=\"weaknesses\")\n",
        "  template3 = \"Create a personalized plan 'Personalized Plan to Address and Fix Key Employee Weaknesses:' to help address and fix these weaknesses with at most 4 pointers.\\n{weaknesses}\"\n",
        "  prompt3 = ChatPromptTemplate.from_template(template3)\n",
        "  chain3 = LLMChain(llm=chat, prompt = prompt3, output_key=\"final_plan\")\n",
        "\n",
        "  # Setting up SequentialChains\n",
        "  seq_chain = SequentialChain(chains=[chain1, chain2, chain3],\n",
        "                              input_variables=[\"review\"],\n",
        "                              output_variables=[\"review_summary\",\"weaknesses\",\"final_plan\"],\n",
        "                              verbose=False)\n",
        "  results = seq_chain(candidiate_fact_sheet)\n",
        "  print(\"WEEKLY REPORT:\")\n",
        "  print(\"\\n\")\n",
        "  print(\"Summary:\")\n",
        "  print(results['review_summary'])\n",
        "  print(\"\\n\")\n",
        "  print(\"Bottlenecks:\")\n",
        "  print(response.content)\n",
        "  print(\"\\n\")\n",
        "  print(\"Suggestions\")\n",
        "  print(results[\"final_plan\"])"
      ],
      "metadata": {
        "id": "Qcbip9bsb6AF"
      },
      "execution_count": null,
      "outputs": []
    },
    {
      "cell_type": "code",
      "source": [
        "weekly_report(4)"
      ],
      "metadata": {
        "colab": {
          "base_uri": "https://localhost:8080/"
        },
        "id": "zoE58zgtAg6y",
        "outputId": "b29d4f89-cf21-4b67-9179-bf73c22a6a4e"
      },
      "execution_count": null,
      "outputs": [
        {
          "output_type": "stream",
          "name": "stdout",
          "text": [
            "WEEKLY REPORT:\n",
            "\n",
            "\n",
            "Summary:\n",
            "This intern's performance review indicates that they have completed more reviews than expected, with a total of 7 out of 4 reviews completed. They have also finished the UBS and Tri-data tasks as planned. The intern acknowledges that the unavailability of some team members has caused bottlenecks in their work. To address this issue, they plan to delegate work to the team. The milestones for this intern include completing 4 reviews and creating reports for client companies. The intern understands the importance of reviews for team collaboration and is working on collecting data for the Tri-data task and implementing a report system. They are also trying to optimize and improve the overall process. The intern's ability to complete tasks on time and their improvement efforts are being assessed, and they are still awaiting feedback from seniors. The intern documents feedback and reasoning for long-gestation tasks. Overall, the intern's performance is satisfactory, with room for improvement in delegation and receiving feedback.\n",
            "\n",
            "\n",
            "Bottlenecks:\n",
            "1. The intern's actual figures for their contributions are lower than the expected figures.\n",
            "2. The intern is facing a bottleneck due to the unavailability of some team members.\n",
            "3. The intern plans to improve the quality and quantity of their work by optimizing and improving processes.\n",
            "4. The intern relies on senior feedback for assessing their work.\n",
            "\n",
            "\n",
            "Suggestions\n",
            "Personalized Plan to Address and Fix Key Employee Weaknesses:\n",
            "\n",
            "1. Delegation:\n",
            "- Provide training and resources on effective delegation techniques and strategies.\n",
            "- Assign a mentor or experienced team member to guide and support the intern in delegating tasks.\n",
            "- Set clear expectations and deadlines for delegated tasks to ensure accountability.\n",
            "- Regularly check in with the intern to assess their progress in delegating tasks and provide constructive feedback.\n",
            "\n",
            "2. Receiving feedback:\n",
            "- Encourage the intern to actively seek feedback from seniors and team members by creating an open and supportive feedback culture.\n",
            "- Implement a system for regular feedback sessions, such as weekly or monthly check-ins, to ensure that the intern receives feedback consistently.\n",
            "- Provide training on how to receive feedback effectively, including active listening and asking clarifying questions.\n",
            "- Offer constructive feedback to the intern on their performance and provide specific areas for improvement.\n",
            "\n",
            "3. Documentation:\n",
            "- Emphasize the importance of documenting feedback for all tasks, not just long-gestation ones.\n",
            "- Provide training on effective documentation techniques, such as using a feedback log or digital tools for tracking feedback.\n",
            "- Encourage the intern to review and reflect on their documented feedback regularly to identify patterns and areas for improvement.\n",
            "- Incorporate documentation as part of the intern's performance evaluation process to ensure accountability and consistency.\n",
            "\n",
            "4. Overall development:\n",
            "- Offer opportunities for the intern to attend workshops, seminars, or training sessions related to delegation, feedback, and documentation skills.\n",
            "- Assign the intern to work on projects that require strong delegation, feedback, and documentation skills to provide practical experience and opportunities for growth.\n",
            "- Provide regular coaching and mentoring sessions to support the intern's professional development.\n",
            "- Recognize and celebrate the intern's progress and improvements in these areas to motivate and encourage further growth.\n",
            "\n",
            "By implementing this personalized plan, the intern will have the necessary tools, support, and guidance to address and fix their weaknesses in delegation, receiving feedback, and documentation. This will ultimately contribute to their overall professional development and effectiveness in their role.\n"
          ]
        }
      ]
    },
    {
      "cell_type": "markdown",
      "source": [
        "WEEKLY REPORT:\n",
        "\n",
        "\n",
        "Summary:\n",
        "This intern's performance review indicates that they have completed more reviews than expected, with a total of 7 out of 4 reviews completed. They have also finished the UBS and Tri-data tasks. The intern acknowledges that there were bottlenecks in the previous week due to the unavailability of some team members. To address this issue, they plan to delegate work to the team. The milestones for the intern include completing 4 reviews and creating reports for client companies. The intern understands the importance of reviews with the teams and is working on collecting data for the Tri-data task and implementing a report system. They are also trying to optimize and improve the overall process. The intern's ability to complete tasks on time and their improvement efforts are being assessed, and they are still awaiting feedback from seniors. The intern documents feedback and reasoning for long-gestation tasks. Overall, the intern's performance is satisfactory, with room for improvement and feedback from seniors.\n",
        "\n",
        "\n",
        "Bottlenecks:\n",
        "1. The intern's actual figures for their contributions are lower than the expected figures.\n",
        "2. The intern is facing a bottleneck due to the unavailability of some team members.\n",
        "3. The intern plans to improve the quality and quantity of their work by optimizing and improving processes.\n",
        "4. The intern relies on senior feedback for assessing their work.\n",
        "\n",
        "\n",
        "Suggestions\n",
        "Personalized Plan to Address and Fix Key Employee Weaknesses:\n",
        "\n",
        "1. Provide training and guidance on effective delegation techniques: Schedule a one-on-one meeting with the intern to discuss the importance of delegation and provide them with resources and training materials on how to delegate tasks effectively. Offer guidance on identifying suitable tasks for delegation, setting clear expectations, and providing necessary support to team members.\n",
        "\n",
        "2. Assign a mentor or coach: Pair the intern with a more experienced team member who can serve as a mentor or coach. This individual can provide ongoing support and guidance, helping the intern develop their delegation skills through practical examples and feedback.\n",
        "\n",
        "3. Encourage regular check-ins and feedback sessions: Establish a system for regular check-ins and feedback sessions to monitor the intern's progress in delegating tasks. During these sessions, provide constructive feedback on their delegation efforts, highlighting areas of improvement and offering suggestions for refinement.\n",
        "\n",
        "4. Provide opportunities for practice: Assign the intern with small projects or tasks that require delegation. This will allow them to practice their newly acquired skills in a controlled environment. Monitor their progress and provide feedback to help them refine their delegation techniques.\n",
        "\n",
        "By implementing this personalized plan, the intern will have the opportunity to develop and improve their delegation skills, enabling them to effectively manage and distribute workload in the future."
      ],
      "metadata": {
        "id": "-vUkCGPpxL1M"
      }
    },
    {
      "cell_type": "markdown",
      "source": [
        "WEEKLY REPORT:\n",
        "\n",
        "\n",
        "Summary:\n",
        "This intern, Fardin Kamal, has performed well in their role as a front-end developer. They have created three new features and made two modifications to the front-end. In addition, they have fixed the UI of Performance Scoop and Performance Review and created a new history feature. They have also been able to negotiate with the project lead about priorities and have made progress towards finishing the PDGMS dashboard's backend. The intern has received positive feedback and is planning to continue improving based on feedback. They are seen as reliable by senior members of the team and have shown the ability to work on long-gestation projects. Overall, their performance has been satisfactory.\n",
        "\n",
        "\n",
        "Bottlenecks:\n",
        "1. Limited developers causing bottlenecks in the project.\n",
        "2. The intern is facing a bottleneck due to a lack of hiring more developers.\n",
        "3. The intern would like to create a process to solve the bottleneck issue.\n",
        "4. The intern's milestones for the next week include finishing the PDGMS dashboard's backend.\n",
        "\n",
        "\n",
        "Suggestions\n",
        "Personalized Plan to Address and Fix Key Employee Weaknesses:\n",
        "\n",
        "1. Conduct a performance review: Schedule a one-on-one meeting with Fardin Kamal to discuss their performance and identify any areas where they may need improvement. This will provide an opportunity for open communication and allow them to express any concerns or challenges they may be facing.\n",
        "\n",
        "2. Set clear expectations and goals: Clearly define the expectations and goals for Fardin Kamal's role as a front-end developer. This will help them understand what is expected of them and provide a clear direction for improvement. Regularly review and update these goals to ensure they are aligned with the company's objectives.\n",
        "\n",
        "3. Provide training and development opportunities: Identify any specific skills or knowledge gaps that Fardin Kamal may have and provide them with the necessary training and development opportunities to address these weaknesses. This could include attending workshops, online courses, or mentoring programs to enhance their skills and knowledge in areas where improvement is needed.\n",
        "\n",
        "4. Offer constructive feedback and support: Continuously provide constructive feedback to Fardin Kamal to help them identify areas for improvement and provide guidance on how to address these weaknesses. Offer support and resources to help them overcome any challenges they may be facing and encourage them to seek feedback from their peers and colleagues.\n",
        "\n",
        "By implementing this personalized plan, you can help Fardin Kamal address and fix any weaknesses they may have, ultimately improving their performance and contributing to the overall success of the team and organization."
      ],
      "metadata": {
        "id": "jihObvBwt8bY"
      }
    },
    {
      "cell_type": "code",
      "source": [
        "question_list = [\n",
        "\"How would you quantify your contributions (of ...\",\n",
        "\"What are the expected figures?\",\n",
        "\"What are the actual figures?\",\n",
        "\"Did you understand how your project lead quant...\",\n",
        "\"What bottlenecks are slowing you down?\",\n",
        "\"Why do you think you're facing this bottleneck?\",\n",
        "\"Would you like to create a process to solve th...\",\n",
        "\"What are your milestones for the next week?\",\n",
        "\"Why have you set these milestones?\",\n",
        "\"How are you improving the quality and quantity...\",\n",
        "\"How do you plan to achieve these milestones?\",\n",
        "\"How are you assessing your work?\",\n",
        "\"Do you rely on senior feedback or do you have ...\",\n",
        "\"If your project has a long gestation period an...\",\n",
        "]"
      ],
      "metadata": {
        "id": "a9OWF8DhpIyz"
      },
      "execution_count": null,
      "outputs": []
    },
    {
      "cell_type": "code",
      "source": [
        "question_list[1:3]"
      ],
      "metadata": {
        "id": "GbUDAI8XpI10",
        "colab": {
          "base_uri": "https://localhost:8080/"
        },
        "outputId": "87ec08a1-5955-45be-d26e-e762094c96ed"
      },
      "execution_count": null,
      "outputs": [
        {
          "output_type": "execute_result",
          "data": {
            "text/plain": [
              "['What are the expected figures?', 'What are the actual figures?']"
            ]
          },
          "metadata": {},
          "execution_count": 54
        }
      ]
    },
    {
      "cell_type": "code",
      "source": [],
      "metadata": {
        "id": "iIjLp6cMpI46"
      },
      "execution_count": null,
      "outputs": []
    },
    {
      "cell_type": "code",
      "source": [
        "candidiate_fact_sheet = df.iloc[2]\n",
        "answers = candidiate_fact_sheet[4:6]\n",
        "answers"
      ],
      "metadata": {
        "id": "z3GrsgPcpJX0",
        "colab": {
          "base_uri": "https://localhost:8080/"
        },
        "outputId": "caf1c93f-c0fe-4d84-be3c-c494f9522c9d"
      },
      "execution_count": null,
      "outputs": [
        {
          "output_type": "execute_result",
          "data": {
            "text/plain": [
              "expected    1. Make sure the team gets done with the user ...\n",
              "actual      1. The team got done with the user flow and ma...\n",
              "Name: 2, dtype: object"
            ]
          },
          "metadata": {},
          "execution_count": 49
        }
      ]
    },
    {
      "cell_type": "code",
      "source": [
        "def weekly_report(x):\n",
        "\n",
        "  candidiate_fact_sheet = df.iloc[x]\n",
        "  answers = candidiate_fact_sheet[3:-6]\n",
        "  deliverables = candidiate_fact_sheet[4:6]\n",
        "  name = candidiate_fact_sheet[1]\n",
        "\n",
        "  question_list = [\n",
        "  \"How would you quantify your contributions (of ...\",\n",
        "  \"What are the expected figures?\",\n",
        "  \"What are the actual figures?\",\n",
        "  \"Did you understand how your project lead quant...\",\n",
        "  \"What bottlenecks are slowing you down?\",\n",
        "  \"Why do you think you're facing this bottleneck?\",\n",
        "  \"Would you like to create a process to solve th...\",\n",
        "  \"What are your milestones for the next week?\",\n",
        "  \"Why have you set these milestones?\",\n",
        "  \"How are you improving the quality and quantity...\",\n",
        "  \"How do you plan to achieve these milestones?\",\n",
        "  \"How are you assessing your work?\",\n",
        "  \"Do you rely on senior feedback or do you have ...\",\n",
        "  \"If your project has a long gestation period an...\",\n",
        "  ]\n",
        "\n",
        "  questions_d = question_list[1:3]\n",
        "\n",
        "  # for bottlenecks\n",
        "  template_string = \"\"\"Based on the {name}, the intern's performance review \\\n",
        "  raise only 3-4 serious red-flags in bullet-points \\\n",
        "  using the question's list to the answers.\\nQuestions:{question_list}\\nAnswers:{answers} \\\n",
        "  Do not mentions questions in the summary.\n",
        "  Raise atmost 4 red-flags.\n",
        "  \"\"\"\n",
        "  prompt_template = ChatPromptTemplate.from_template(template_string)\n",
        "  summary = prompt_template.format_messages(name = name,\n",
        "                                            answers = answers,\n",
        "                                            question_list = question_list\n",
        "                                            )\n",
        "  response = chat(summary)\n",
        "\n",
        "  # for deliverables\n",
        "  template_string_d = \"\"\"Based on the {name}, the intern's performance review \\\n",
        "  raise only 3-4  bullet-points \\\n",
        "  using the question's list to the answers.\\nQuestions:{question_list}\\nAnswers:{answers} \\\n",
        "  Do not mentions questions.\n",
        "  \"\"\"\n",
        "\n",
        "  prompt_template_d = ChatPromptTemplate.from_template(template_string_d)\n",
        "  summary_d = prompt_template.format_messages(name = name,\n",
        "                                            answers = deliverables,\n",
        "                                            question_list = questions_d\n",
        "                                            )\n",
        "  response_d = chat(summary_d)\n",
        "\n",
        "  # SequentialChain\n",
        "  template1 = \"Give a summary of this intern's performance review\\n{review}\"\n",
        "  prompt1 = ChatPromptTemplate.from_template(template1)\n",
        "  chain1 = LLMChain(llm=chat, prompt = prompt1, output_key=\"review_summary\")\n",
        "  template2 = \"Identify Key employee weakness in this review summary\\n{review_summary}\"\n",
        "  prompt2 = ChatPromptTemplate.from_template(template2)\n",
        "  chain2 = LLMChain(llm=chat, prompt = prompt2, output_key=\"weaknesses\")\n",
        "  template3 = \"Create a personalized plan 'Personalized Plan to Address and Fix Key Employee Weaknesses:' to help address and fix these weaknesses with at most 4 pointers.\\n{weaknesses}\"\n",
        "  prompt3 = ChatPromptTemplate.from_template(template3)\n",
        "  chain3 = LLMChain(llm=chat, prompt = prompt3, output_key=\"final_plan\")\n",
        "\n",
        "  # Setting up SequentialChains\n",
        "  seq_chain = SequentialChain(chains=[chain1, chain2, chain3],\n",
        "                              input_variables=[\"review\"],\n",
        "                              output_variables=[\"review_summary\", \"weaknesses\", \"final_plan\"],\n",
        "                              verbose=False)\n",
        "  results = seq_chain(candidiate_fact_sheet)\n",
        "  print(\"WEEKLY REPORT:\")\n",
        "  print(\"\\n\")\n",
        "  print(\"Summary:\")\n",
        "  print(results['review_summary'])\n",
        "  print(\"\\n\")\n",
        "  print(\"Deliverables:\")\n",
        "  print(response_d.content)\n",
        "  print(\"\\n\")\n",
        "  print(\"Bottlenecks:\")\n",
        "  print(response.content)\n",
        "  print(\"\\n\")\n",
        "  print(\"Suggestions\")\n",
        "  print(results[\"final_plan\"])"
      ],
      "metadata": {
        "id": "TyJLmgumvDsZ"
      },
      "execution_count": null,
      "outputs": []
    },
    {
      "cell_type": "code",
      "source": [
        "weekly_report(4)"
      ],
      "metadata": {
        "colab": {
          "base_uri": "https://localhost:8080/"
        },
        "id": "0BydKQmivD3K",
        "outputId": "0673329e-bd37-4eb6-aebf-f8c6d8c9ed27"
      },
      "execution_count": null,
      "outputs": [
        {
          "output_type": "stream",
          "name": "stdout",
          "text": [
            "WEEKLY REPORT:\n",
            "\n",
            "\n",
            "Summary:\n",
            "This intern's performance review indicates that they have completed more reviews than expected, with a total of 7 out of 4 reviews completed. They have also finished working on the UBS and Tri-data projects. The intern acknowledges that there were bottlenecks in the previous week due to the unavailability of some team members. To address this issue, they plan to delegate work to the team. The milestones for the intern include completing 4 reviews and creating reports for client companies. The intern understands the importance of reviews with the teams and is working on collecting data for the Tri-data project and improving the report system. The intern is assessed based on their ability to complete tasks on time and their improvement efforts. They still rely on feedback from seniors and document feedback and reasoning. Overall, the intern's performance is satisfactory, and they are actively working on improving their processes.\n",
            "\n",
            "\n",
            "Deliverables:\n",
            "- The intern did not meet the expected figure of completing 4 reviews, as they only completed 7/4 reviews.\n",
            "- The intern failed to meet the expected figure of completing UBS and Tri-data reviews by Tuesday, as they only completed UBS and Tri-data reviews.\n",
            "- The intern's performance in meeting the expected figures raises concerns about their ability to meet deadlines and complete tasks efficiently.\n",
            "\n",
            "\n",
            "Bottlenecks:\n",
            "1. The intern's actual figures for their contributions are lower than the expected figures.\n",
            "2. The intern is facing bottlenecks due to the unavailability of some team members.\n",
            "3. The intern plans to improve their work by optimizing and improving processes.\n",
            "4. The intern relies on senior feedback for assessing their work.\n",
            "\n",
            "\n",
            "Suggestions\n",
            "Personalized Plan to Address and Fix Key Employee Weaknesses:\n",
            "\n",
            "1. Building Confidence and Decision-Making Skills:\n",
            "- Encourage the intern to take on more independent projects and tasks that require decision-making. This will help them gain confidence in their abilities and develop their problem-solving skills.\n",
            "- Provide opportunities for the intern to present their ideas and solutions to the team or senior members. This will help them practice articulating their thoughts and receiving feedback directly.\n",
            "\n",
            "2. Developing Critical Thinking and Analytical Skills:\n",
            "- Assign the intern tasks that require them to analyze data, identify patterns, and make informed decisions based on their analysis. This will help them develop their critical thinking and analytical skills.\n",
            "- Encourage the intern to seek out additional resources and information when faced with complex problems. This will help them broaden their knowledge base and enhance their problem-solving abilities.\n",
            "\n",
            "3. Providing Mentorship and Guidance:\n",
            "- Assign a senior employee as a mentor to the intern. This mentor can provide guidance, support, and feedback to help the intern develop their decision-making skills and gain confidence in their abilities.\n",
            "- Schedule regular check-ins with the intern to discuss their progress, challenges, and provide constructive feedback. This will help them feel supported and motivated to improve their weaknesses.\n",
            "\n",
            "4. Encouraging Self-Reflection and Documentation:\n",
            "- Encourage the intern to reflect on their decision-making process and document their reasoning behind their choices. This will help them become more aware of their own strengths and weaknesses and improve their ability to make informed decisions.\n",
            "- Provide templates or guidelines for documenting feedback and reasoning. This will help the intern develop a structured approach to documenting their thoughts and improve their ability to communicate their ideas effectively.\n",
            "\n",
            "By implementing this personalized plan, the intern will have the opportunity to develop their confidence, decision-making skills, critical thinking abilities, and problem-solving capabilities. With guidance, support, and practice, they will be able to address and fix their weaknesses, becoming a more independent and valuable employee.\n"
          ]
        }
      ]
    },
    {
      "cell_type": "markdown",
      "source": [
        "WEEKLY REPORT:\n",
        "\n",
        "\n",
        "Summary:\n",
        "This intern, Hinglaj Tanwar, has been performing well in their role. They have been actively involved in creating and reviewing content, as well as conducting interviews. They have met the expected targets for these tasks. However, they have identified a bottleneck in their performance, which is the inability to reach out to enough people due to a stack of priority tasks. They have suggested creating a schedule to address this issue. The milestones set for the intern include reaching out to 1000 individuals and sending 500 emails. These milestones were discussed with the team and are considered key performance indicators. The intern's performance will be assessed based on feedback and whether they are able to complete tasks on time. Both the intern and senior staff rely on each other for support. The intern acknowledges that some tasks may have a long gestation period. This performance review covers the week of August 7th to August 13th, 2023.\n",
        "\n",
        "\n",
        "Deliverables:\n",
        "- The expected figures for creating and reviewing content were 10, but the actual figures are not mentioned.\n",
        "- The expected figures for taking initiative were not mentioned, and the actual figures are also not mentioned.\n",
        "- The expected figures for problem-solving were not mentioned, and the actual figures are also not mentioned.\n",
        "- The expected figures for teamwork were not mentioned, and the actual figures are also not mentioned.\n",
        "\n",
        "\n",
        "Bottlenecks:\n",
        "- The intern's actual figures for their contributions are the same as the expected figures.\n",
        "- The intern is facing a bottleneck in not being able to outreach enough people due to a stack of priority tasks.\n",
        "- The intern has created a process by creating a schedule to solve this bottleneck.\n",
        "- The intern's milestones for the next week include reaching out to 1000 people, sending 500 emails, and hiring 2 interns.\n",
        "\n",
        "\n",
        "Suggestions\n",
        "Personalized Plan to Address and Fix Key Employee Weaknesses:\n",
        "\n",
        "1. Prioritize and Delegate Tasks: Help the intern identify and prioritize their tasks based on urgency and importance. Encourage them to delegate non-essential tasks to other team members or seek assistance when necessary. This will free up their time and allow them to focus on reaching out to more people.\n",
        "\n",
        "2. Time Management and Planning: Work with the intern to develop effective time management strategies. Help them create a daily or weekly schedule that includes dedicated time for reaching out to people. Encourage them to set specific goals and deadlines for each outreach task to ensure they stay on track.\n",
        "\n",
        "3. Improve Communication Skills: Provide the intern with resources and training opportunities to enhance their communication skills. This can include workshops, online courses, or mentoring sessions. Focus on improving their ability to effectively communicate their needs, prioritize tasks, and seek assistance when required.\n",
        "\n",
        "4. Regular Check-ins and Support: Schedule regular check-ins with the intern to monitor their progress and provide guidance. Offer support and guidance whenever they face challenges or feel overwhelmed. By maintaining open lines of communication, you can address any issues promptly and provide the necessary support to help them overcome their weaknesses.\n",
        "\n",
        "By implementing this personalized plan, the intern will be able to address their weakness of not reaching out to enough people due to a stack of priority tasks. This will ultimately improve their performance and contribute to the overall success of the team."
      ],
      "metadata": {
        "id": "4EQ47IFikWkQ"
      }
    }
  ]
}